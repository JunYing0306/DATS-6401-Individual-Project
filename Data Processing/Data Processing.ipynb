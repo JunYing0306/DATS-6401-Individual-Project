{
 "cells": [
  {
   "cell_type": "code",
   "execution_count": 21,
   "metadata": {},
   "outputs": [],
   "source": [
    "import pandas as pd\n",
    "import numpy as np"
   ]
  },
  {
   "cell_type": "code",
   "execution_count": 22,
   "metadata": {},
   "outputs": [],
   "source": [
    "population = pd.read_csv('NationPop.csv', index_col=0)\n",
    "gdp = pd.read_csv('NationGDP.csv', index_col=0)\n",
    "military = pd.read_csv('MilitarySpendingUSD.csv', index_col=0)\n",
    "education_gdp = pd.read_csv('Education_of_GDP.csv', index_col=0)\n",
    "health_gdp = pd.read_csv('Current_health_ of_GDP.csv', index_col=0)\n",
    "health_capita = pd.read_csv('Current_health_ of_capita.csv.csv', index_col=0)\n",
    "\n",
    "population.rename(index = {'Russian Federation': 'Russia'},inplace=True)\n",
    "gdp.rename(index = {'Russian Federation': 'Russia'},inplace=True)\n",
    "military.rename(index = {'Russian Federation': 'Russia'},inplace=True)\n",
    "education_gdp.rename(index = {'Russian Federation': 'Russia'},inplace=True)\n",
    "health_capita.rename(index = {'Russian Federation': 'Russia'},inplace=True)\n",
    "health_gdp.rename(index = {'Russian Federation': 'Russia'},inplace=True)"
   ]
  },
  {
   "cell_type": "code",
   "execution_count": 23,
   "metadata": {},
   "outputs": [],
   "source": [
    "country = ['Canada', 'France', 'Germany', 'Italy', 'Japan', 'United Kingdom',\n",
    "           'United States', 'South Africa', 'China', 'India', 'Russia', 'Brazil']\n",
    "years = ['2010', '2011', '2012', '2013', '2014', '2015']\n",
    "country_code = population.loc[country, 'Country Code']"
   ]
  },
  {
   "cell_type": "code",
   "execution_count": 24,
   "metadata": {},
   "outputs": [],
   "source": [
    "population = population.loc[:,years]\n",
    "population = population.loc[country, :] / 1000000"
   ]
  },
  {
   "cell_type": "code",
   "execution_count": 25,
   "metadata": {},
   "outputs": [],
   "source": [
    "gdp = gdp.loc[:,years]\n",
    "gdp = gdp.loc[country, :] /1000000000"
   ]
  },
  {
   "cell_type": "code",
   "execution_count": 26,
   "metadata": {},
   "outputs": [],
   "source": [
    "gdp_capita = pd.DataFrame(np.array(gdp)/np.array(population), index = gdp.index) * 1000\n",
    "gdp_capita.columns = years"
   ]
  },
  {
   "cell_type": "code",
   "execution_count": 27,
   "metadata": {},
   "outputs": [],
   "source": [
    "military = military.loc[:,years]\n",
    "military = military.loc[country, :] / 1000000000"
   ]
  },
  {
   "cell_type": "code",
   "execution_count": 28,
   "metadata": {},
   "outputs": [],
   "source": [
    "military_gdp = pd.DataFrame(100 * np.array(military)/np.array(gdp), index = military.index) \n",
    "military_gdp.columns = years"
   ]
  },
  {
   "cell_type": "code",
   "execution_count": 29,
   "metadata": {},
   "outputs": [],
   "source": [
    "military_capita = pd.DataFrame(np.array(military)/np.array(population), index = military.index) * 1000\n",
    "military_capita.columns = years"
   ]
  },
  {
   "cell_type": "code",
   "execution_count": 30,
   "metadata": {},
   "outputs": [],
   "source": [
    "education_gdp = education_gdp.loc[:,years]\n",
    "education_gdp = education_gdp.loc[country, :]"
   ]
  },
  {
   "cell_type": "code",
   "execution_count": 31,
   "metadata": {},
   "outputs": [],
   "source": [
    "education = pd.DataFrame(np.array(education_gdp) * np.array(gdp)/100, index = education_gdp.index)\n",
    "education.columns = years"
   ]
  },
  {
   "cell_type": "code",
   "execution_count": 32,
   "metadata": {},
   "outputs": [],
   "source": [
    "education_capita = pd.DataFrame(np.array(education)/np.array(population), index = education.index) * 1000\n",
    "education_capita.columns = years"
   ]
  },
  {
   "cell_type": "code",
   "execution_count": 33,
   "metadata": {},
   "outputs": [],
   "source": [
    "health_gdp = health_gdp.loc[:,years]\n",
    "health_gdp = health_gdp.loc[country, :]"
   ]
  },
  {
   "cell_type": "code",
   "execution_count": 34,
   "metadata": {},
   "outputs": [],
   "source": [
    "health_capita = health_capita.loc[:,years]\n",
    "health_capita = health_capita.loc[country, :]"
   ]
  },
  {
   "cell_type": "code",
   "execution_count": 35,
   "metadata": {},
   "outputs": [],
   "source": [
    "health = pd.DataFrame(np.array(health_capita) * np.array(population), index = health_capita.index) / 1000\n",
    "health.columns = years"
   ]
  },
  {
   "cell_type": "code",
   "execution_count": 36,
   "metadata": {},
   "outputs": [],
   "source": [
    "CAN = pd.DataFrame({'Population':population.loc['Canada',:],'GDP':gdp.loc['Canada',:],'GDPperCapita':gdp_capita.loc['Canada',:],\n",
    "                    'MilitarySpending':military.loc['Canada',:],'HealthcareSpending':health.loc['Canada',:],\n",
    "                   'EducationSpending':education.loc['Canada',:],'MilitaryPerCapita':military_capita.loc['Canada',:],\n",
    "                    'HealthcarePerCapita':health_capita.loc['Canada',:],'EducationPerCapita':education_capita.loc['Canada',:]})\n",
    "\n",
    "FRA = pd.DataFrame({'Population':population.loc['France',:],'GDP':gdp.loc['France',:],'GDPperCapita':gdp_capita.loc['France',:],\n",
    "                    'MilitarySpending':military.loc['France',:],'HealthcareSpending':health.loc['France',:],\n",
    "                   'EducationSpending':education.loc['France',:],'MilitaryPerCapita':military_capita.loc['France',:],\n",
    "                    'HealthcarePerCapita':health_capita.loc['France',:],'EducationPerCapita':education_capita.loc['France',:]})\n",
    "\n",
    "DEU = pd.DataFrame({'Population':population.loc['Germany',:],'GDP':gdp.loc['Germany',:],'GDPperCapita':gdp_capita.loc['Germany',:],\n",
    "                    'MilitarySpending':military.loc['Germany',:],'HealthcareSpending':health.loc['Germany',:],\n",
    "                   'EducationSpending':education.loc['Germany',:],'MilitaryPerCapita':military_capita.loc['Germany',:],\n",
    "                    'HealthcarePerCapita':health_capita.loc['Germany',:],'EducationPerCapita':education_capita.loc['Germany',:]})\n",
    "\n",
    "ITA = pd.DataFrame({'Population':population.loc['Italy',:],'GDP':gdp.loc['Italy',:],'GDPperCapita':gdp_capita.loc['Italy',:],\n",
    "                    'MilitarySpending':military.loc['Italy',:],'HealthcareSpending':health.loc['Italy',:],\n",
    "                   'EducationSpending':education.loc['Italy',:],'MilitaryPerCapita':military_capita.loc['Italy',:],\n",
    "                    'HealthcarePerCapita':health_capita.loc['Italy',:],'EducationPerCapita':education_capita.loc['Italy',:]})\n",
    "\n",
    "JPN = pd.DataFrame({'Population':population.loc['Japan',:],'GDP':gdp.loc['Japan',:],'GDPperCapita':gdp_capita.loc['Japan',:],\n",
    "                    'MilitarySpending':military.loc['Japan',:],'HealthcareSpending':health.loc['Japan',:],\n",
    "                   'EducationSpending':education.loc['Japan',:],'MilitaryPerCapita':military_capita.loc['Japan',:],\n",
    "                    'HealthcarePerCapita':health_capita.loc['Japan',:],'EducationPerCapita':education_capita.loc['Japan',:]})\n",
    "\n",
    "GBR = pd.DataFrame({'Population':population.loc['United Kingdom',:],'GDP':gdp.loc['United Kingdom',:],\n",
    "                    'GDPperCapita':gdp_capita.loc['United Kingdom',:],'MilitarySpending':military.loc['United Kingdom',:],\n",
    "                    'HealthcareSpending':health.loc['United Kingdom',:],'EducationSpending':education.loc['United Kingdom',:],\n",
    "                    'MilitaryPerCapita':military_capita.loc['United Kingdom',:],'HealthcarePerCapita':health_capita.loc['United Kingdom',:],\n",
    "                    'EducationPerCapita':education_capita.loc['United Kingdom',:]})\n",
    "\n",
    "USA = pd.DataFrame({'Population':population.loc['United States',:],'GDP':gdp.loc['United States',:],\n",
    "                    'GDPperCapita':gdp_capita.loc['United States',:],'MilitarySpending':military.loc['United States',:],\n",
    "                    'HealthcareSpending':health.loc['United States',:],'EducationSpending':education.loc['United States',:],\n",
    "                    'MilitaryPerCapita':military_capita.loc['United States',:],'HealthcarePerCapita':health_capita.loc['United States',:],\n",
    "                    'EducationPerCapita':education_capita.loc['United States',:]})\n",
    "\n",
    "ZAF = pd.DataFrame({'Population':population.loc['South Africa',:],'GDP':gdp.loc['South Africa',:],\n",
    "                    'GDPperCapita':gdp_capita.loc['South Africa',:],'MilitarySpending':military.loc['South Africa',:],\n",
    "                    'HealthcareSpending':health.loc['South Africa',:],'EducationSpending':education.loc['South Africa',:],\n",
    "                    'MilitaryPerCapita':military_capita.loc['South Africa',:],'HealthcarePerCapita':health_capita.loc['South Africa',:],\n",
    "                    'EducationPerCapita':education_capita.loc['South Africa',:]})\n",
    "\n",
    "CHN = pd.DataFrame({'Population':population.loc['China',:],'GDP':gdp.loc['China',:],'GDPperCapita':gdp_capita.loc['China',:],\n",
    "                    'MilitarySpending':military.loc['China',:],'HealthcareSpending':health.loc['China',:],\n",
    "                   'EducationSpending':education.loc['China',:],'MilitaryPerCapita':military_capita.loc['China',:],\n",
    "                    'HealthcarePerCapita':health_capita.loc['China',:],'EducationPerCapita':education_capita.loc['China',:]})\n",
    "\n",
    "IND = pd.DataFrame({'Population':population.loc['India',:],'GDP':gdp.loc['India',:],'GDPperCapita':gdp_capita.loc['India',:],\n",
    "                    'MilitarySpending':military.loc['India',:],'HealthcareSpending':health.loc['India',:],\n",
    "                   'EducationSpending':education.loc['India',:],'MilitaryPerCapita':military_capita.loc['India',:],\n",
    "                    'HealthcarePerCapita':health_capita.loc['India',:],'EducationPerCapita':education_capita.loc['India',:]})\n",
    "\n",
    "RUS = pd.DataFrame({'Population':population.loc['Russia',:],'GDP':gdp.loc['Russia',:],'GDPperCapita':gdp_capita.loc['Russia',:],\n",
    "                    'MilitarySpending':military.loc['Russia',:],'HealthcareSpending':health.loc['Russia',:],\n",
    "                   'EducationSpending':education.loc['Russia',:],'MilitaryPerCapita':military_capita.loc['Russia',:],\n",
    "                    'HealthcarePerCapita':health_capita.loc['Russia',:],'EducationPerCapita':education_capita.loc['Russia',:]})\n",
    "\n",
    "BRA = pd.DataFrame({'Population':population.loc['Brazil',:],'GDP':gdp.loc['Brazil',:],'GDPperCapita':gdp_capita.loc['Brazil',:],\n",
    "                    'MilitarySpending':military.loc['Brazil',:],'HealthcareSpending':health.loc['Brazil',:],\n",
    "                   'EducationSpending':education.loc['Brazil',:],'MilitaryPerCapita':military_capita.loc['Brazil',:],\n",
    "                    'HealthcarePerCapita':health_capita.loc['Brazil',:],'EducationPerCapita':education_capita.loc['Brazil',:]})"
   ]
  },
  {
   "cell_type": "code",
   "execution_count": 37,
   "metadata": {},
   "outputs": [],
   "source": [
    "data2015 = pd.DataFrame({'GDPperCapita':gdp_capita.loc[:,'2015'],'MilitaryPerCapita':military_capita.loc[:,'2015'],\n",
    "                         'HealthcarePerCapita':health_capita.loc[:,'2015'],'EducationPerCapita':education_capita.loc[:,'2015']})\n",
    "data2015['Country Code'] = country_code\n",
    "data2015_capita = pd.DataFrame({'GDPperCapita':gdp_capita.loc[:,'2015'],'MilitaryPerCapita':military_capita.loc[:,'2015'],\n",
    "                         'HealthcarePerCapita':health_capita.loc[:,'2015'],'EducationPerCapita':education_capita.loc[:,'2015']})\n",
    "data2015_capita = pd.DataFrame(data2015_capita.values.T, index=data2015_capita.columns, columns=data2015_capita.index)"
   ]
  },
  {
   "cell_type": "code",
   "execution_count": 38,
   "metadata": {},
   "outputs": [],
   "source": [
    "health['Totel'] = health[years].sum(axis=1)\n",
    "health['Average'] = health[years].mean(axis=1)\n",
    "health['Growth in Billion'] = health['2015'] - health['2010']\n",
    "health['Rate'] = 100 * health['Growth in Billion'] / health['2010']\n",
    "health['Country Code'] = country_code\n",
    "\n",
    "health_gdp['Totel']=health_gdp[years].sum(axis=1)\n",
    "health_gdp['Average']=health_gdp[years].mean(axis=1)\n",
    "health_gdp['Growth'] = health_gdp['2015'] - health_gdp['2010']\n",
    "health_gdp['Rate'] = 100 * health_gdp['Growth'] / health_gdp['2010']\n",
    "health_gdp['Country Code'] = country_code\n",
    "\n",
    "health_capita['Totel'] = health_capita[years].sum(axis=1)\n",
    "health_capita['Average'] = health_capita[years].mean(axis=1)\n",
    "health_capita['Growth'] = health_capita['2015'] - health_capita['2010']\n",
    "health_capita['Rate'] = 100 * health_capita['Growth'] / health_capita['2010']\n",
    "health_capita['Country Code'] = country_code\n",
    "\n",
    "gdp['Totel']=gdp[years].sum(axis=1)\n",
    "gdp['Average']=gdp[years].mean(axis=1)\n",
    "gdp['Growth in Billion'] = gdp['2015'] - gdp['2010']\n",
    "gdp['Rate'] = 100 * gdp['Growth in Billion'] / gdp['2010']\n",
    "\n",
    "gdp_capita['Totel']=gdp_capita[years].sum(axis=1)\n",
    "gdp_capita['Average']=gdp_capita[years].mean(axis=1)\n",
    "gdp_capita['Growth'] = gdp_capita['2015'] - gdp_capita['2010']\n",
    "gdp_capita['Rate'] = 100 * gdp_capita['Growth'] / gdp_capita['2010']\n",
    "\n",
    "population['Totel']=population[years].sum(axis=1)\n",
    "population['Average']=population[years].mean(axis=1)\n",
    "population['Growth in Million'] = population['2015'] - population['2010']\n",
    "population['Rate'] = 100 * population['Growth in Million'] / population['2010']\n",
    "\n",
    "military['Totel']=military[years].sum(axis=1)\n",
    "military['Average']=military[years].mean(axis=1)\n",
    "military['Growth in Billion'] = military['2015'] - military['2010']\n",
    "military['Rate'] = 100 * military['Growth in Billion'] / military['2010']\n",
    "military['Country Code'] = country_code\n",
    "\n",
    "military_gdp['Totel']=military_gdp[years].sum(axis=1)\n",
    "military_gdp['Average']=military_gdp[years].mean(axis=1)\n",
    "military_gdp['Growth'] = military_gdp['2015'] - military_gdp['2010']\n",
    "military_gdp['Rate'] = 100 * military_gdp['Growth'] / military_gdp['2010']\n",
    "military_gdp['Country Code'] = country_code\n",
    "\n",
    "military_capita['Totel']=military_capita[years].sum(axis=1)\n",
    "military_capita['Average']=military_capita[years].mean(axis=1)\n",
    "military_capita['Growth'] = military_capita['2015'] - military_capita['2010']\n",
    "military_capita['Rate'] = 100 * military_capita['Growth'] / military_capita['2010']\n",
    "military_capita['Country Code'] = country_code\n",
    "\n",
    "education['Growth in Billion'] = education['2015'] - education['2010']\n",
    "education['Rate'] = 100 * education['Growth in Billion'] / education['2010']\n",
    "education['Country Code'] = country_code\n",
    "\n",
    "education_capita['Growth'] = education_capita['2015'] - education_capita['2010']\n",
    "education_capita['Rate'] = 100 * education_capita['Growth'] / education_capita['2010']\n",
    "education_capita['Country Code'] = country_code\n",
    "\n",
    "education_gdp['Growth'] = education_gdp['2015'] - education_gdp['2010']\n",
    "education_gdp['Rate'] = 100 * education_gdp['Growth'] / education_gdp['2010']\n",
    "education_gdp['Country Code'] = country_code"
   ]
  },
  {
   "cell_type": "code",
   "execution_count": 39,
   "metadata": {
    "scrolled": true
   },
   "outputs": [],
   "source": [
    "total_data = pd.ExcelWriter('project_data.xlsx')\n",
    "\n",
    "population.to_excel(total_data, sheet_name='population')\n",
    "gdp.to_excel(total_data, sheet_name='gdp')\n",
    "gdp_capita.to_excel(total_data, sheet_name='gdp_capita')\n",
    "\n",
    "military.to_excel(total_data, sheet_name='military')\n",
    "military_gdp.to_excel(total_data, sheet_name='military_gdp')\n",
    "military_capita.to_excel(total_data, sheet_name='military_capita')\n",
    "\n",
    "health.to_excel(total_data, sheet_name='health')\n",
    "health_capita.to_excel(total_data, sheet_name='health_capita')\n",
    "health_gdp.to_excel(total_data, sheet_name='health_gdp')\n",
    "\n",
    "education.to_excel(total_data, sheet_name='education')\n",
    "education_capita.to_excel(total_data, sheet_name='education_capita')\n",
    "education_gdp.to_excel(total_data, sheet_name='education_gdp')\n",
    "\n",
    "CAN.to_excel(total_data, sheet_name='Canada')\n",
    "FRA.to_excel(total_data, sheet_name='France')\n",
    "DEU.to_excel(total_data, sheet_name='Germany')\n",
    "ITA.to_excel(total_data, sheet_name='Italy')\n",
    "JPN.to_excel(total_data, sheet_name='Japan')\n",
    "GBR.to_excel(total_data, sheet_name='United Kingdom')\n",
    "USA.to_excel(total_data, sheet_name='United States')\n",
    "ZAF.to_excel(total_data, sheet_name='South Africa')\n",
    "CHN.to_excel(total_data, sheet_name='China')\n",
    "IND.to_excel(total_data, sheet_name='India')\n",
    "RUS.to_excel(total_data, sheet_name='Russia')\n",
    "BRA.to_excel(total_data, sheet_name='Brazil')\n",
    "data2015.to_excel(total_data, sheet_name='data2015')\n",
    "data2015_capita.to_excel(total_data, sheet_name='data2015_capita')\n",
    "total_data.save()"
   ]
  },
  {
   "cell_type": "code",
   "execution_count": null,
   "metadata": {},
   "outputs": [],
   "source": []
  },
  {
   "cell_type": "code",
   "execution_count": null,
   "metadata": {},
   "outputs": [],
   "source": []
  }
 ],
 "metadata": {
  "kernelspec": {
   "display_name": "Python 3",
   "language": "python",
   "name": "python3"
  },
  "language_info": {
   "codemirror_mode": {
    "name": "ipython",
    "version": 3
   },
   "file_extension": ".py",
   "mimetype": "text/x-python",
   "name": "python",
   "nbconvert_exporter": "python",
   "pygments_lexer": "ipython3",
   "version": "3.7.3"
  }
 },
 "nbformat": 4,
 "nbformat_minor": 2
}
